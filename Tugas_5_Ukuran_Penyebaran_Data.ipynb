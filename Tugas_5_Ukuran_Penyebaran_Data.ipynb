{
  "nbformat": 4,
  "nbformat_minor": 0,
  "metadata": {
    "colab": {
      "name": "Tugas 5 : Ukuran Penyebaran Data",
      "provenance": [],
      "collapsed_sections": [],
      "mount_file_id": "1RC7EpUgawbQXxGXSdNSNYgPUWmnLVCqC",
      "authorship_tag": "ABX9TyPmmha0TK34JuXyyJNEaURF",
      "include_colab_link": true
    },
    "kernelspec": {
      "name": "python3",
      "display_name": "Python 3"
    }
  },
  "cells": [
    {
      "cell_type": "markdown",
      "metadata": {
        "id": "view-in-github",
        "colab_type": "text"
      },
      "source": [
        "<a href=\"https://colab.research.google.com/github/ShinyQ/Python-Data_Mining-Statistics_Task_5/blob/main/Tugas_5_Ukuran_Penyebaran_Data.ipynb\" target=\"_parent\"><img src=\"https://colab.research.google.com/assets/colab-badge.svg\" alt=\"Open In Colab\"/></a>"
      ]
    },
    {
      "cell_type": "markdown",
      "metadata": {
        "id": "49dwOuLyTRvs"
      },
      "source": [
        "# **Tugas 5 : Penyebaran Data**\n",
        "\n",
        "Kurniadi Ahmad Wijaya - 1301194024 - IF 43 *09*"
      ]
    },
    {
      "cell_type": "code",
      "metadata": {
        "id": "-YANOCoWQPsr"
      },
      "source": [
        "import pandas as pd\n",
        "\n",
        "path = '/content/drive/My Drive/Dataset Tugas Statistika/'\n",
        "ecom = pd.read_excel(path + 'Book1.xlsx')"
      ],
      "execution_count": 1,
      "outputs": []
    },
    {
      "cell_type": "code",
      "metadata": {
        "id": "DtMlSQRzT9tK",
        "outputId": "948b0334-d76c-494c-ce57-bf71cc9edf42",
        "colab": {
          "base_uri": "https://localhost:8080/",
          "height": 296
        }
      },
      "source": [
        "ecom.head()"
      ],
      "execution_count": 2,
      "outputs": [
        {
          "output_type": "execute_result",
          "data": {
            "text/html": [
              "<div>\n",
              "<style scoped>\n",
              "    .dataframe tbody tr th:only-of-type {\n",
              "        vertical-align: middle;\n",
              "    }\n",
              "\n",
              "    .dataframe tbody tr th {\n",
              "        vertical-align: top;\n",
              "    }\n",
              "\n",
              "    .dataframe thead th {\n",
              "        text-align: right;\n",
              "    }\n",
              "</style>\n",
              "<table border=\"1\" class=\"dataframe\">\n",
              "  <thead>\n",
              "    <tr style=\"text-align: right;\">\n",
              "      <th></th>\n",
              "      <th>Region</th>\n",
              "      <th>Country</th>\n",
              "      <th>Item Type</th>\n",
              "      <th>Sales Channel</th>\n",
              "      <th>Order Priority</th>\n",
              "      <th>Order Date</th>\n",
              "      <th>Order ID</th>\n",
              "      <th>Ship Date</th>\n",
              "      <th>Units Sold</th>\n",
              "      <th>Unit Price</th>\n",
              "      <th>Unit Cost</th>\n",
              "      <th>Total Revenue</th>\n",
              "      <th>Total Cost</th>\n",
              "      <th>Total Profit</th>\n",
              "    </tr>\n",
              "  </thead>\n",
              "  <tbody>\n",
              "    <tr>\n",
              "      <th>0</th>\n",
              "      <td>Middle East and North Africa</td>\n",
              "      <td>Libya</td>\n",
              "      <td>Cosmetics</td>\n",
              "      <td>Offline</td>\n",
              "      <td>M</td>\n",
              "      <td>2014-10-18</td>\n",
              "      <td>686800706</td>\n",
              "      <td>2014-10-31</td>\n",
              "      <td>8446</td>\n",
              "      <td>437.20</td>\n",
              "      <td>263.33</td>\n",
              "      <td>3692591.20</td>\n",
              "      <td>2224085.18</td>\n",
              "      <td>1468506.02</td>\n",
              "    </tr>\n",
              "    <tr>\n",
              "      <th>1</th>\n",
              "      <td>North America</td>\n",
              "      <td>Canada</td>\n",
              "      <td>Vegetables</td>\n",
              "      <td>Online</td>\n",
              "      <td>M</td>\n",
              "      <td>2011-11-07</td>\n",
              "      <td>185941302</td>\n",
              "      <td>2011-12-08</td>\n",
              "      <td>3018</td>\n",
              "      <td>154.06</td>\n",
              "      <td>90.93</td>\n",
              "      <td>464953.08</td>\n",
              "      <td>274426.74</td>\n",
              "      <td>190526.34</td>\n",
              "    </tr>\n",
              "    <tr>\n",
              "      <th>2</th>\n",
              "      <td>Middle East and North Africa</td>\n",
              "      <td>Libya</td>\n",
              "      <td>Baby Food</td>\n",
              "      <td>Offline</td>\n",
              "      <td>C</td>\n",
              "      <td>2016-10-31</td>\n",
              "      <td>246222341</td>\n",
              "      <td>2016-12-09</td>\n",
              "      <td>1517</td>\n",
              "      <td>255.28</td>\n",
              "      <td>159.42</td>\n",
              "      <td>387259.76</td>\n",
              "      <td>241840.14</td>\n",
              "      <td>145419.62</td>\n",
              "    </tr>\n",
              "    <tr>\n",
              "      <th>3</th>\n",
              "      <td>Asia</td>\n",
              "      <td>Japan</td>\n",
              "      <td>Cereal</td>\n",
              "      <td>Offline</td>\n",
              "      <td>C</td>\n",
              "      <td>2010-04-10</td>\n",
              "      <td>161442649</td>\n",
              "      <td>2010-05-12</td>\n",
              "      <td>3322</td>\n",
              "      <td>205.70</td>\n",
              "      <td>117.11</td>\n",
              "      <td>683335.40</td>\n",
              "      <td>389039.42</td>\n",
              "      <td>294295.98</td>\n",
              "    </tr>\n",
              "    <tr>\n",
              "      <th>4</th>\n",
              "      <td>Sub-Saharan Africa</td>\n",
              "      <td>Chad</td>\n",
              "      <td>Fruits</td>\n",
              "      <td>Offline</td>\n",
              "      <td>H</td>\n",
              "      <td>2011-08-16</td>\n",
              "      <td>645713555</td>\n",
              "      <td>2011-08-31</td>\n",
              "      <td>9845</td>\n",
              "      <td>9.33</td>\n",
              "      <td>6.92</td>\n",
              "      <td>91853.85</td>\n",
              "      <td>68127.40</td>\n",
              "      <td>23726.45</td>\n",
              "    </tr>\n",
              "  </tbody>\n",
              "</table>\n",
              "</div>"
            ],
            "text/plain": [
              "                         Region Country  ...  Total Cost Total Profit\n",
              "0  Middle East and North Africa   Libya  ...  2224085.18   1468506.02\n",
              "1                 North America  Canada  ...   274426.74    190526.34\n",
              "2  Middle East and North Africa   Libya  ...   241840.14    145419.62\n",
              "3                          Asia   Japan  ...   389039.42    294295.98\n",
              "4            Sub-Saharan Africa    Chad  ...    68127.40     23726.45\n",
              "\n",
              "[5 rows x 14 columns]"
            ]
          },
          "metadata": {
            "tags": []
          },
          "execution_count": 2
        }
      ]
    },
    {
      "cell_type": "code",
      "metadata": {
        "id": "dO73rxBUT_jb"
      },
      "source": [
        "import pandas as pd\n",
        "import matplotlib.pyplot as plt"
      ],
      "execution_count": 3,
      "outputs": []
    },
    {
      "cell_type": "code",
      "metadata": {
        "id": "tZVMratGUMR3",
        "outputId": "19e2c05e-0f7e-4f74-ea69-86f0ac37187a",
        "colab": {
          "base_uri": "https://localhost:8080/",
          "height": 118
        }
      },
      "source": [
        "sold = ecom['Units Sold']\n",
        "sold.head()"
      ],
      "execution_count": 6,
      "outputs": [
        {
          "output_type": "execute_result",
          "data": {
            "text/plain": [
              "0    8446\n",
              "1    3018\n",
              "2    1517\n",
              "3    3322\n",
              "4    9845\n",
              "Name: Units Sold, dtype: int64"
            ]
          },
          "metadata": {
            "tags": []
          },
          "execution_count": 6
        }
      ]
    },
    {
      "cell_type": "code",
      "metadata": {
        "id": "JcybV8TQUWKE",
        "outputId": "3fdbc2d7-6359-46cd-d9c7-f5e0a06f0c2d",
        "colab": {
          "base_uri": "https://localhost:8080/",
          "height": 34
        }
      },
      "source": [
        "mean = sold.mean()\n",
        "median = sold.median()\n",
        "modus = sold.mode()\n",
        "\n",
        "print(\"Mean:\", mean, \", Median:\", median,\", Modus:\", modus[0])"
      ],
      "execution_count": 10,
      "outputs": [
        {
          "output_type": "stream",
          "text": [
            "Mean: 5053.988 , Median: 5184.0 , Modus: 6283\n"
          ],
          "name": "stdout"
        }
      ]
    },
    {
      "cell_type": "code",
      "metadata": {
        "id": "vJZAvgrSUkeQ",
        "outputId": "c6fc788a-b3cb-4f09-95d0-bdfa77cc0b59",
        "colab": {
          "base_uri": "https://localhost:8080/",
          "height": 334
        }
      },
      "source": [
        "plt.figure(figsize=(15,5))\n",
        "plt.hist(sold,bins=35,color='grey')\n",
        "plt.axvline(mean,color='red',label='Mean')\n",
        "plt.axvline(median,color='yellow',label='Median')\n",
        "plt.axvline(modus[0],color='green',label='Modus')\n",
        "plt.xlabel('Unit Penjualan')\n",
        "plt.ylabel('frekuensi')\n",
        "plt.legend()\n",
        "plt.show()"
      ],
      "execution_count": 12,
      "outputs": [
        {
          "output_type": "display_data",
          "data": {
            "image/png": "[encoded data removed]",
            "text/plain": [
              "<Figure size 1080x360 with 1 Axes>"
            ]
          },
          "metadata": {
            "tags": [],
            "needs_background": "light"
          }
        }
      ]
    },
    {
      "cell_type": "code",
      "metadata": {
        "id": "ojPO3bTBVC8S"
      },
      "source": [
        "max_sold = sold.max()\n",
        "min_sold = sold.min()\n",
        "range = max_sold - min_sold\n",
        "varian = sold.var()\n",
        "simpangan_baku = sold.std()\n",
        "koefisien = simpangan_baku / mean"
      ],
      "execution_count": 16,
      "outputs": []
    },
    {
      "cell_type": "code",
      "metadata": {
        "id": "n8PdTwA2WBRT",
        "outputId": "b54a51da-0152-4b34-8cf7-43ed0c24d66a",
        "colab": {
          "base_uri": "https://localhost:8080/",
          "height": 118
        }
      },
      "source": [
        "print('Nilai Tertinggi :', max_sold)\n",
        "print('Nilai Terendah :', min_sold)\n",
        "print('Range :', range)\n",
        "print('Varian :', \"{:.2f}\".format(varian))\n",
        "print('Simpangan Baku :', \"{:.2f}\".format(simpangan_baku))\n",
        "print('Koefisien :', \"{:.2f}\".format(koefisien))"
      ],
      "execution_count": 23,
      "outputs": [
        {
          "output_type": "stream",
          "text": [
            "Nilai Tertinggi : 9998\n",
            "Nilai Terendah : 13\n",
            "Range : 9985\n",
            "Varian : 8417978.73\n",
            "Simpangan Baku : 2901.38\n",
            "Koefisien : 0.57\n"
          ],
          "name": "stdout"
        }
      ]
    },
    {
      "cell_type": "code",
      "metadata": {
        "id": "ZxYNPCYkWBzG"
      },
      "source": [
        ""
      ],
      "execution_count": null,
      "outputs": []
    }
  ]
}